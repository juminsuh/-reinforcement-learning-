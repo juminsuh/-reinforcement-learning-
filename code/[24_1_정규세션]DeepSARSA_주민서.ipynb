{
  "nbformat": 4,
  "nbformat_minor": 0,
  "metadata": {
    "colab": {
      "provenance": [],
      "authorship_tag": "ABX9TyMVEekZ0F5PUzFsseweZ7bk",
      "include_colab_link": true
    },
    "kernelspec": {
      "name": "python3",
      "display_name": "Python 3"
    },
    "language_info": {
      "name": "python"
    }
  },
  "cells": [
    {
      "cell_type": "markdown",
      "metadata": {
        "id": "view-in-github",
        "colab_type": "text"
      },
      "source": [
        "<a href=\"https://colab.research.google.com/github/juminsuh/Reinforcement_Learning/blob/main/%5B24_1_%EC%A0%95%EA%B7%9C%EC%84%B8%EC%85%98%5DDeepSARSA_%EC%A3%BC%EB%AF%BC%EC%84%9C.ipynb\" target=\"_parent\"><img src=\"https://colab.research.google.com/assets/colab-badge.svg\" alt=\"Open In Colab\"/></a>"
      ]
    },
    {
      "cell_type": "markdown",
      "source": [
        "## Import"
      ],
      "metadata": {
        "id": "G9GHccd_zT_S"
      }
    },
    {
      "cell_type": "code",
      "execution_count": null,
      "metadata": {
        "id": "lO3PMu3LzASq"
      },
      "outputs": [],
      "source": [
        "import os\n",
        "import time\n",
        "import numpy as np\n",
        "import pandas as pd\n",
        "import matplotlib.pyplot as plt\n",
        "import random\n",
        "from typing import Tuple\n",
        "\n",
        "import torch\n",
        "from torch import optim\n",
        "import torch.nn as nn\n",
        "import torch.nn.functional as F"
      ]
    },
    {
      "cell_type": "code",
      "source": [
        "from google.colab import drive\n",
        "drive.mount('/content/drive')"
      ],
      "metadata": {
        "colab": {
          "base_uri": "https://localhost:8080/"
        },
        "id": "yu6PZlzXzmUI",
        "outputId": "0da69d9c-cd1d-4b93-eedf-c88a2562f8e9"
      },
      "execution_count": null,
      "outputs": [
        {
          "output_type": "stream",
          "name": "stdout",
          "text": [
            "Mounted at /content/drive\n"
          ]
        }
      ]
    },
    {
      "cell_type": "markdown",
      "source": [
        "# Load env"
      ],
      "metadata": {
        "id": "VP8hu0Lcz7LP"
      }
    },
    {
      "cell_type": "code",
      "source": [
        "# change directory\n",
        "os.chdir('/content/drive/MyDrive/24-1/강화학습세션/환경')"
      ],
      "metadata": {
        "id": "dojIjDOpzpuj"
      },
      "execution_count": null,
      "outputs": []
    },
    {
      "cell_type": "code",
      "source": [
        "! python GridWorldEnvironment3.py"
      ],
      "metadata": {
        "id": "dj_Gm-Q_0H6K"
      },
      "execution_count": null,
      "outputs": []
    },
    {
      "cell_type": "code",
      "source": [
        "from GridWorldEnvironment3 import GridWorldEnvironment"
      ],
      "metadata": {
        "id": "0KYA9lHL0MOv"
      },
      "execution_count": null,
      "outputs": []
    },
    {
      "cell_type": "markdown",
      "source": [
        "# DeepSARSA"
      ],
      "metadata": {
        "id": "ki6oCo_j0oM1"
      }
    },
    {
      "cell_type": "code",
      "source": [
        "# 입력을 상태의 크기, 행동의 크기로 받고 큐함수를 출력하는 신경망\n",
        "# 출력이 큐함수이므로 마지막 층에서 선형 활성화 함수를 사용한다.\n",
        "class DeepSARSA(nn.Module):\n",
        "    def __init__(self, state_size, action_size):\n",
        "        super(DeepSARSA, self).__init__()\n",
        "        self.fc1 = nn.Linear(state_size, 30)\n",
        "        self.fc2 = nn.Linear(30, 30)\n",
        "        self.fc3 = nn.Linear(30, action_size)\n",
        "        #큐함수이므로 action_size만큼\n",
        "\n",
        "    def forward(self, x):\n",
        "        x = self.fc1(x)\n",
        "        x = self.fc2(x)\n",
        "        x = self.fc3(x)\n",
        "\n",
        "        return x"
      ],
      "metadata": {
        "id": "XPSQy9Ko0nyB"
      },
      "execution_count": 10,
      "outputs": []
    },
    {
      "cell_type": "markdown",
      "source": [
        "# Agent_DS"
      ],
      "metadata": {
        "id": "j5rFsfCv2O6c"
      }
    },
    {
      "cell_type": "code",
      "source": [
        "class DeepSARSAAgent:\n",
        "    def __init__(self, state_size, action_space):\n",
        "        '''\n",
        "        state_size란 agent의 end_point에 대한\n",
        "        상태 위치 x, y, done으로 3개 (장애물이 없다)\n",
        "        '''\n",
        "        # 행동에 대한 파라미터\n",
        "        self.action_space = action_space\n",
        "        self.num_actions = len(action_space)\n",
        "\n",
        "        # 딥살사 하이퍼 파라미터(하이퍼 파라미터는 파라미터를 조정해주는 파라미터)\n",
        "        self.step_size = 0.01\n",
        "        self.discount_factor = 0.9 # 할인율\n",
        "        self.epsilon = 1.0\n",
        "        self.epsilon_decay = 0.999\n",
        "        self.epsilon_min = 0.01\n",
        "        self.learning_rate = 0.001\n",
        "\n",
        "        # 신경망\n",
        "        # state_size, action_size를 매개변수로 받는다\n",
        "        self.model = DeepSARSA(state_size, self.num_actions)\n",
        "        self.optimizer = optim.Adam(self.model.parameters(), lr = self.learning_rate)\n",
        "        self.loss = nn.MSELoss() # 오차함수로 MSELoss를 사용함:(정답-예측)**2\n",
        "\n",
        "    def get_action(self, state):\n",
        "\n",
        "        self.model.eval() # model eval mode\n",
        "        state = torch.tensor(state, dtype=torch.float32)\n",
        "\n",
        "        # epsilon-탐욕 정책\n",
        "        if np.random.randn() <= self.epsilon:\n",
        "            # random.randrange(4): 0부터 3까지의 행동 중 무작위 행동 반환\n",
        "            return random.randrange(self.num_actions)\n",
        "        else:\n",
        "            q_value = self.model(state)\n",
        "            # item()메소드는 하나의 요소를 가진 텐서에만 적용 가능하며, 그 텐서 요소를 숫자로 변환\n",
        "            return torch.argmax(q_value).item()\n",
        "\n",
        "    def train_model(self, state, action_idx, reward, next_state, next_action_idx, done):\n",
        "        if self.epsilon > self.epsilon_min:\n",
        "            self.epsilon *= self.epsilon_decay\n",
        "\n",
        "        self.model.train() # model train mode\n",
        "\n",
        "        # 파이토치에서 연산을 하기 위해 torch의 tensor로 변환\n",
        "        state = torch.tensor(state, dtype = torch.float32)\n",
        "        next_state = torch.tensor(next_state, dtype = torch.float32)\n",
        "\n",
        "        # 현재 state\n",
        "        y_pred = self.model(state)\n",
        "        '''\n",
        "        1. int형의 action_idx를 torch로 변환한다.\n",
        "        2. 첫 번째 인자(torch.tensor([action_idx]))는 원-핫 인코딩을 적용할 대상,\n",
        "            num_classes는 원-핫 인코딩 벡터의 길이, 즉 self.num_actions=5이라면\n",
        "            선택된 action_idx만 1이고 나머지는 0인 길이가 5짜리 벡터 하나가 반환된다.\n",
        "        '''\n",
        "        one_hot_idx=F.one_hot(torch.tensor([action_idx]), num_classes=self.num_actions)\n",
        "        '''\n",
        "        y_pred=(N, num_actions): N은 배치의 개수, num_actions은 행동의 개수\n",
        "        one_hot_idx=(N, num_actions): N은 배치의 개수, num_actions는 행동의 개수\n",
        "        이므로 y_pred와 one_hot_idx는 \"element-wise\"하게 곱할 수 있다.\n",
        "        이렇게 하면 one_hot_idx에 의해 각 배치마다 실제로 한 행동만 골라낼 수 있다.\n",
        "        이후 axis=1, 즉 행끼리 더해 (N,)이 결과로 나온다. 즉 배치마다 어떤 행동으로 예측했냐가 결과값이다.\n",
        "        '''\n",
        "        pred=torch.sum(y_pred*one_hot_idx, axis=1)\n",
        "\n",
        "        #next_state\n",
        "        next_q=self.model(next_state)[next_action_idx]\n",
        "        target=reward+(1-done)*self.discount_factor*next_q\n",
        "\n",
        "        cost=self.loss(pred, target)\n",
        "\n",
        "        #파라미터 업데이트\n",
        "        self.optimizer.zero_grad()\n",
        "        cost.backward()\n",
        "        self.optimizer.step()"
      ],
      "metadata": {
        "id": "wTjlmQNq2DsE"
      },
      "execution_count": 15,
      "outputs": []
    },
    {
      "cell_type": "markdown",
      "source": [
        "# main_DS"
      ],
      "metadata": {
        "id": "xjft81r69_he"
      }
    },
    {
      "cell_type": "code",
      "source": [
        "env=GridWorldEnvironment(start_point=(0,0),\n",
        "                         end_point=(4,4),\n",
        "                         gridworld_size=(5,5))\n",
        "\n",
        "agent=DeepSARSAAgent(env.state_len, env.action_space)\n",
        "\n",
        "EPISODES=1000\n",
        "RENDER_PROCESS=False#만약 중간 과정을 보고 싶다면 True로 설정해주면 된다.\n",
        "RENDER_END=False\n",
        "total_moves=[]\n",
        "check_point={}"
      ],
      "metadata": {
        "id": "E-xz88BT9_AH"
      },
      "execution_count": 16,
      "outputs": []
    },
    {
      "cell_type": "code",
      "source": [
        "#train code\n",
        "\n",
        "for episode in range(EPISODES):\n",
        "    #게임 환경 초기화\n",
        "    state=env.reset()\n",
        "    moves_cnt=0\n",
        "    #현재 상태에서 행동을 선택\n",
        "    action_idx=agent.get_action(state)\n",
        "\n",
        "    done=False\n",
        "\n",
        "    while not done:\n",
        "        if RENDER_PROCESS:\n",
        "            env.render()\n",
        "\n",
        "        #agent가 한 action_idx에 대한 결과로 다음 상태, 보상, 도착점 도달 여부를 반환\n",
        "        next_state, reward, done=env.step(action_idx)\n",
        "\n",
        "        next_action_idx=agent.get_action(next_state)\n",
        "\n",
        "        #큐함수 업데이트\n",
        "        agent.train_model(state, action_idx, reward, next_state, next_action_idx, done)\n",
        "\n",
        "        state=next_state\n",
        "        action_idx=next_action_idx\n",
        "        moves_cnt+=1\n",
        "\n",
        "    total_moves.append(moves_cnt)\n",
        "\n",
        "    if (episode+1)%100==0:\n",
        "        print(f'[EPISODE]:{episode+1}/{EPISODES}__[Num of Moves mean]:{np.mean(total_moves[-100:]):1f}__[Epsilon]:{agent.epsilon:.3f}')\n",
        "        check_point[f'epi_{episode+1}']=agent.model.state_dict()\n",
        "\n",
        "    if RENDER_END:\n",
        "        env.render()"
      ],
      "metadata": {
        "id": "YuWL9IdX_A5l",
        "colab": {
          "base_uri": "https://localhost:8080/"
        },
        "outputId": "72980786-b3a8-43c7-ca3b-6702df0564a6"
      },
      "execution_count": 17,
      "outputs": [
        {
          "output_type": "stream",
          "name": "stderr",
          "text": [
            "/usr/local/lib/python3.10/dist-packages/torch/nn/modules/loss.py:535: UserWarning: Using a target size (torch.Size([])) that is different to the input size (torch.Size([1])). This will likely lead to incorrect results due to broadcasting. Please ensure they have the same size.\n",
            "  return F.mse_loss(input, target, reduction=self.reduction)\n"
          ]
        },
        {
          "output_type": "stream",
          "name": "stdout",
          "text": [
            "[EPISODE]:100/1000__[Num of Moves mean]:30.590000__[Epsilon]:0.047\n",
            "[EPISODE]:200/1000__[Num of Moves mean]:17.520000__[Epsilon]:0.010\n",
            "[EPISODE]:300/1000__[Num of Moves mean]:16.620000__[Epsilon]:0.010\n",
            "[EPISODE]:400/1000__[Num of Moves mean]:17.290000__[Epsilon]:0.010\n",
            "[EPISODE]:700/1000__[Num of Moves mean]:15.910000__[Epsilon]:0.010\n",
            "[EPISODE]:800/1000__[Num of Moves mean]:15.240000__[Epsilon]:0.010\n",
            "[EPISODE]:900/1000__[Num of Moves mean]:17.000000__[Epsilon]:0.010\n",
            "[EPISODE]:1000/1000__[Num of Moves mean]:15.500000__[Epsilon]:0.010\n"
          ]
        }
      ]
    },
    {
      "cell_type": "code",
      "source": [
        "#마지막 학습 상황만 재현\n",
        "env.render()"
      ],
      "metadata": {
        "id": "3G3MNWjiASii",
        "colab": {
          "base_uri": "https://localhost:8080/"
        },
        "outputId": "df0138be-63f1-41c4-bc16-c39259414b76"
      },
      "execution_count": 18,
      "outputs": [
        {
          "output_type": "stream",
          "name": "stdout",
          "text": [
            "S X X X . \n",
            "X . X X X \n",
            ". . X X X \n",
            ". . . . X \n",
            ". . . . A \n",
            "\n"
          ]
        }
      ]
    },
    {
      "cell_type": "code",
      "source": [
        "#1000번의 에피소드에서 에이전트의 이동 횟수를 시각화\n",
        "#total_move에는 에피소드마다 얼마나 움직였는지를 더한다\n",
        "#move_cnt에는 하나의 에피소드에 얼마나 움직였는지를 더한다\n",
        "\n",
        "plt.plot(total_moves)\n",
        "plt.ylabel('cnt')\n",
        "plt.xlabel('episode')\n",
        "plt.title('Num of Moves')\n",
        "plt.show()"
      ],
      "metadata": {
        "id": "0YJHvFtVAWHB",
        "colab": {
          "base_uri": "https://localhost:8080/",
          "height": 472
        },
        "outputId": "a9c49c13-265a-444a-b669-7652cf18e144"
      },
      "execution_count": 19,
      "outputs": [
        {
          "output_type": "display_data",
          "data": {
            "text/plain": [
              "<Figure size 640x480 with 1 Axes>"
            ],
            "image/png": "[encoded data removed]"
          },
          "metadata": {}
        }
      ]
    }
  ]
}
