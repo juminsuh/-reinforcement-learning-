{
  "nbformat": 4,
  "nbformat_minor": 0,
  "metadata": {
    "colab": {
      "provenance": [],
      "authorship_tag": "ABX9TyPTimWyT/X7aOkS+IqHnKl2",
      "include_colab_link": true
    },
    "kernelspec": {
      "name": "python3",
      "display_name": "Python 3"
    },
    "language_info": {
      "name": "python"
    }
  },
  "cells": [
    {
      "cell_type": "markdown",
      "metadata": {
        "id": "view-in-github",
        "colab_type": "text"
      },
      "source": [
        "<a href=\"https://colab.research.google.com/github/juminsuh/Reinforcement_Learning/blob/main/%5B24_1_%EC%A0%95%EA%B7%9C%EC%84%B8%EC%85%98%5DDQN_%EC%A3%BC%EB%AF%BC%EC%84%9C.ipynb\" target=\"_parent\"><img src=\"https://colab.research.google.com/assets/colab-badge.svg\" alt=\"Open In Colab\"/></a>"
      ]
    },
    {
      "cell_type": "markdown",
      "source": [
        "## Import"
      ],
      "metadata": {
        "id": "fQO869-i9s-b"
      }
    },
    {
      "cell_type": "code",
      "source": [
        "import random\n",
        "import numpy as np\n",
        "import pandas as pd\n",
        "from collections import deque\n",
        "import matplotlib.pyplot as plt\n",
        "\n",
        "import torch\n",
        "import torch.nn as nn\n",
        "import torch.nn.functional as F\n",
        "import torch.optim as optim"
      ],
      "metadata": {
        "id": "HzSHLTxZ9sZo"
      },
      "execution_count": null,
      "outputs": []
    },
    {
      "cell_type": "markdown",
      "source": [
        "## LevEnv"
      ],
      "metadata": {
        "id": "M3fhOU-n904l"
      }
    },
    {
      "cell_type": "code",
      "execution_count": null,
      "metadata": {
        "id": "AKyu_T-S9qXI"
      },
      "outputs": [],
      "source": [
        "class LevEnv:\n",
        "    def __init__(self):\n",
        "\n",
        "        self.state = [0.0, 0.0, 0.0]\n",
        "        self.num_state = len(self.state)\n",
        "\n",
        "        self.action_space = ['left', 'middle', 'right']\n",
        "        self.num_action = len(self.action_space)\n",
        "\n",
        "        self.reward = {'left': -1, 'middle': 0, 'right': 1}\n",
        "\n",
        "    def reset(self):\n",
        "\n",
        "        self.state = [0.0, 0.0, 0.0]\n",
        "        return self.state\n",
        "\n",
        "    def step(self, action_idx):\n",
        "\n",
        "        action = self.action_space[action_idx]\n",
        "        self.state[action_idx] = 1.0\n",
        "        state = self.state\n",
        "\n",
        "        reward = 0\n",
        "        reward = self.reward[action]\n",
        "\n",
        "        done = True\n",
        "\n",
        "        return state, reward, done\n",
        "\n",
        "    def render(self, state):\n",
        "\n",
        "        rendering = [value for value in state]\n",
        "        print(rendering)"
      ]
    },
    {
      "cell_type": "markdown",
      "source": [
        "## Neural Network"
      ],
      "metadata": {
        "id": "PX9Tr6qh-vpm"
      }
    },
    {
      "cell_type": "code",
      "source": [
        "# 입력: state, 출력: 각 행동의 q함수\n",
        "\n",
        "class NN(nn.Module):\n",
        "\n",
        "    def __init__(self, state_size, action_size):\n",
        "        super(NN, self).__init__()\n",
        "        self.state_size = state_size\n",
        "        self.action_size = action_size\n",
        "\n",
        "        self.fc1 = nn.Linear(self.state_size, 30)\n",
        "        self.fc2 = nn.Linear(30, 30)\n",
        "        self.fc3 = nn.Linear(30, self.action_size)\n",
        "\n",
        "    def forward(self, x):\n",
        "\n",
        "        x = F.relu(self.fc1(x))\n",
        "        x = F.relu(self.fc2(x))\n",
        "        x = self.fc3(x)\n",
        "\n",
        "        return x"
      ],
      "metadata": {
        "id": "XZ_JIHqg-x00"
      },
      "execution_count": null,
      "outputs": []
    },
    {
      "cell_type": "markdown",
      "source": [
        "## MonkeyAgent"
      ],
      "metadata": {
        "id": "wr8fPtHR_Vs5"
      }
    },
    {
      "cell_type": "markdown",
      "source": [
        "> 초기화\n",
        "\n",
        "\n",
        "*   state_size, action_size\n",
        "*   lr, loss, batch_size, memory_size, discount_factor, epsilon, memory\n",
        "*   인공신경망, 타깃신경망, optimizer\n",
        "*  타깃 신경망 초기화\n",
        "\n",
        "> 메서드\n",
        "\n",
        "\n",
        "*   타깃신경망 초기화\n",
        "*   get_action(입실론-탐욕 정책)\n",
        "*   리플레이 메모리에 append_sample\n",
        "*   train_model\n",
        "\n",
        "\n",
        "\n"
      ],
      "metadata": {
        "id": "I_pfFsV2E5c3"
      }
    },
    {
      "cell_type": "code",
      "source": [
        "class DQNAgent:\n",
        "\n",
        "    def __init__(self, state_size, action_size):\n",
        "\n",
        "        self.state_size = state_size\n",
        "        self.action_size = action_size\n",
        "\n",
        "        self.learning_rate = 0.001\n",
        "        self.loss = nn.MSELoss()\n",
        "        self.batch_size = 16\n",
        "        self.memory_size = 1000\n",
        "        self.memory_size_min = 100\n",
        "        self.discount_factor = 0.1\n",
        "        self.epsilon = 0.9\n",
        "        self.epsilon_decay = 0.999\n",
        "        self.epsilon_min = 0.01\n",
        "        self.memory = deque(maxlen = self.memory_size)\n",
        "\n",
        "        # 인공신경망 model, 타깃신경망 target_model\n",
        "        self.model = NN(self.state_size, self.action_size)\n",
        "        self.target_model = NN(self.state_size, self.action_size)\n",
        "        self.optimizer = optim.Adam(self.model.parameters(), lr = self.learning_rate)\n",
        "\n",
        "        # 타깃신경망 초기화\n",
        "        self.update_target_model()\n",
        "\n",
        "    def update_target_model(self):\n",
        "        # model과 target_model의 weights를 같게 함\n",
        "        self.target_model.load_state_dict(self.model.state_dict())\n",
        "\n",
        "    def get_action(self, state):\n",
        "        # NN에 들어가는 모든 변수는 tensor임\n",
        "        if np.random.rand() <= self.epsilon:\n",
        "            return random.randrange(self.action_size)\n",
        "        else:\n",
        "            state = torch.tensor(state)\n",
        "            q_value = self.model(state) # [[0, 1, 2]] 이런 꼴로 반환\n",
        "            action_idx = q_value.max(0)[1].item()\n",
        "\n",
        "            return action_idx\n",
        "\n",
        "    def append_sample(self, state, action, reward, next_state, done):\n",
        "        # tuple 형태로 반환해서 리플레이 메모리에 샘플 저장\n",
        "        self.memory.append((state, action, reward, next_state, done))\n",
        "\n",
        "    def train_model(self):\n",
        "\n",
        "        # 탐험율을 점점 낮춤\n",
        "        if self.epsilon >= self.epsilon_min:\n",
        "            self.epsilon *= self.epsilon_decay\n",
        "\n",
        "        mini_batch = random.sample(self.memory, self.batch_size)\n",
        "\n",
        "        states = torch.tensor([sample[0][i] for sample in mini_batch for i in range(self.state_size)]).reshape(self.batch_size, self.action_size)\n",
        "        actions = torch.tensor([sample[1] for sample in mini_batch])\n",
        "        rewards = torch.tensor([sample[2] for sample in mini_batch])\n",
        "        next_states = torch.tensor([sample[3][i] for sample in mini_batch for i in range(self.state_size)]).reshape(self.batch_size, self.action_size)\n",
        "        dones = torch.tensor([sample[4] for sample in mini_batch])\n",
        "\n",
        "        dones = dones.int()\n",
        "\n",
        "        # states를 통해 예측한 q함수\n",
        "        pred = self.model(states) # (16, 3) = (self.batch_size, self.action_size)\n",
        "        pred_one_hot = F.one_hot(actions, self.action_size)\n",
        "        pred_one_hot = torch.sum(pred * pred_one_hot, dim = 1)\n",
        "\n",
        "        # next_states를 통해 계산한 최대 q함수\n",
        "        # max(1)에서 1은 tensor의 행을 나타냄. 따라서 max(1)은 행의 (최대값, idx)을 반환.\n",
        "        # idx가 아니라 최대값을 뽑기 위해 [0] 사용\n",
        "        # detach()로 target_pred는 더 이상 그래디언트가 계산되지 않음 -> 파라미터가 업데이트되지 않음\n",
        "        target_pred = self.target_model(next_states).max(1)[0].detach()\n",
        "\n",
        "        # 벨만 최적 방정식\n",
        "        # 정답\n",
        "        targets = rewards + (1 - dones) * self.discount_factor * target_pred\n",
        "        loss = self.loss(pred_one_hot, target_pred)\n",
        "        # loss = self.loss(pred.gather(1, actions.squeeze(1)), targets.unsqueeze(1))\n",
        "\n",
        "        # 가중치 업데이트\n",
        "        self.optimizer.zero_grad()\n",
        "        loss.backward()\n",
        "        self.optimizer.step()\n"
      ],
      "metadata": {
        "id": "cmZPXjSP_XjI"
      },
      "execution_count": null,
      "outputs": []
    },
    {
      "cell_type": "markdown",
      "source": [
        "## main"
      ],
      "metadata": {
        "id": "lix8dcgDFrEl"
      }
    },
    {
      "cell_type": "code",
      "source": [
        "env = LevEnv()\n",
        "monkey = DQNAgent(env.num_state, env.num_action)\n",
        "\n",
        "scores, episodes, scores_avg = [], [], []\n",
        "cnt = 0\n",
        "RENDER_PROCESS = False\n",
        "RENDER_END = False\n",
        "\n",
        "EPISODES = 10000\n",
        "\n",
        "for epi in range(EPISODES + 1):\n",
        "    done = False\n",
        "    score = 0\n",
        "\n",
        "    # 환경 초기화\n",
        "    state = env.reset()\n",
        "\n",
        "    while not done:\n",
        "        # 현재 상태에서 행동 선택\n",
        "        action = monkey.get_action(state)\n",
        "\n",
        "        # 선택한 행동으로 step\n",
        "        next_state, reward, done = env.step(action)\n",
        "        score += reward\n",
        "\n",
        "        # 리플레이 메모리에 (s, a, r, s') 저장\n",
        "        monkey.append_sample(state, action, reward, next_state, done)\n",
        "\n",
        "        if RENDER_PROCESS:\n",
        "            env.render()\n",
        "\n",
        "        # 메모리 사이즈가 min 이상이면 훈련\n",
        "        if len(monkey.memory) > monkey.memory_size_min:\n",
        "            monkey.train_model()\n",
        "        # 훈련이 끝나면 현재 상태가 다음 상태가 됨\n",
        "        state = next_state\n",
        "\n",
        "        if done:\n",
        "            episodes.append(epi)\n",
        "            scores.append(score)\n",
        "            scores_avg.append(np.mean(scores))\n",
        "\n",
        "            if action == 2:\n",
        "                cnt += 1\n",
        "\n",
        "            if (epi % 50 == 0):\n",
        "                print(f\"episode: {epi} | lever right:{cnt} | score: {np.mean(scores):.3f}\")\n"
      ],
      "metadata": {
        "colab": {
          "base_uri": "https://localhost:8080/"
        },
        "id": "S2RgmokhFs5o",
        "outputId": "0fff7fa1-66ae-4fdd-fba7-d638d72b32b7"
      },
      "execution_count": null,
      "outputs": [
        {
          "output_type": "stream",
          "name": "stdout",
          "text": [
            "episode: 0 | lever right:1 | score: 1.000\n",
            "episode: 50 | lever right:19 | score: 0.039\n",
            "episode: 100 | lever right:40 | score: 0.119\n",
            "episode: 150 | lever right:62 | score: 0.126\n",
            "episode: 200 | lever right:86 | score: 0.139\n",
            "episode: 250 | lever right:108 | score: 0.147\n",
            "episode: 300 | lever right:134 | score: 0.179\n",
            "episode: 350 | lever right:159 | score: 0.191\n",
            "episode: 400 | lever right:182 | score: 0.204\n",
            "episode: 450 | lever right:210 | score: 0.231\n",
            "episode: 500 | lever right:238 | score: 0.238\n",
            "episode: 550 | lever right:267 | score: 0.254\n",
            "episode: 600 | lever right:294 | score: 0.265\n",
            "episode: 650 | lever right:330 | score: 0.289\n",
            "episode: 700 | lever right:366 | score: 0.307\n",
            "episode: 750 | lever right:400 | score: 0.320\n",
            "episode: 800 | lever right:432 | score: 0.328\n",
            "episode: 850 | lever right:471 | score: 0.350\n",
            "episode: 900 | lever right:508 | score: 0.367\n",
            "episode: 950 | lever right:548 | score: 0.386\n",
            "episode: 1000 | lever right:587 | score: 0.400\n",
            "episode: 1050 | lever right:625 | score: 0.410\n",
            "episode: 1100 | lever right:664 | score: 0.422\n",
            "episode: 1150 | lever right:702 | score: 0.433\n",
            "episode: 1200 | lever right:737 | score: 0.435\n",
            "episode: 1250 | lever right:777 | score: 0.446\n",
            "episode: 1300 | lever right:819 | score: 0.457\n",
            "episode: 1350 | lever right:857 | score: 0.461\n",
            "episode: 1400 | lever right:895 | score: 0.467\n",
            "episode: 1450 | lever right:934 | score: 0.473\n",
            "episode: 1500 | lever right:977 | score: 0.485\n",
            "episode: 1550 | lever right:1018 | score: 0.493\n",
            "episode: 1600 | lever right:1064 | score: 0.505\n",
            "episode: 1650 | lever right:1109 | score: 0.515\n",
            "episode: 1700 | lever right:1157 | score: 0.528\n",
            "episode: 1750 | lever right:1205 | score: 0.540\n",
            "episode: 1800 | lever right:1247 | score: 0.545\n",
            "episode: 1850 | lever right:1289 | score: 0.550\n",
            "episode: 1900 | lever right:1334 | score: 0.559\n",
            "episode: 1950 | lever right:1381 | score: 0.568\n",
            "episode: 2000 | lever right:1425 | score: 0.574\n",
            "episode: 2050 | lever right:1472 | score: 0.583\n",
            "episode: 2100 | lever right:1513 | score: 0.587\n",
            "episode: 2150 | lever right:1559 | score: 0.593\n",
            "episode: 2200 | lever right:1604 | score: 0.600\n",
            "episode: 2250 | lever right:1649 | score: 0.606\n",
            "episode: 2300 | lever right:1693 | score: 0.610\n",
            "episode: 2350 | lever right:1738 | score: 0.615\n",
            "episode: 2400 | lever right:1786 | score: 0.621\n",
            "episode: 2450 | lever right:1834 | score: 0.627\n",
            "episode: 2500 | lever right:1883 | score: 0.634\n",
            "episode: 2550 | lever right:1930 | score: 0.639\n",
            "episode: 2600 | lever right:1978 | score: 0.645\n",
            "episode: 2650 | lever right:2023 | score: 0.648\n",
            "episode: 2700 | lever right:2069 | score: 0.653\n",
            "episode: 2750 | lever right:2119 | score: 0.659\n",
            "episode: 2800 | lever right:2168 | score: 0.665\n",
            "episode: 2850 | lever right:2218 | score: 0.671\n",
            "episode: 2900 | lever right:2266 | score: 0.675\n",
            "episode: 2950 | lever right:2315 | score: 0.680\n",
            "episode: 3000 | lever right:2362 | score: 0.684\n",
            "episode: 3050 | lever right:2409 | score: 0.688\n",
            "episode: 3100 | lever right:2459 | score: 0.693\n",
            "episode: 3150 | lever right:2508 | score: 0.697\n",
            "episode: 3200 | lever right:2558 | score: 0.702\n",
            "episode: 3250 | lever right:2607 | score: 0.706\n",
            "episode: 3300 | lever right:2654 | score: 0.709\n",
            "episode: 3350 | lever right:2703 | score: 0.713\n",
            "episode: 3400 | lever right:2753 | score: 0.717\n",
            "episode: 3450 | lever right:2801 | score: 0.720\n",
            "episode: 3500 | lever right:2849 | score: 0.724\n",
            "episode: 3550 | lever right:2898 | score: 0.727\n",
            "episode: 3600 | lever right:2948 | score: 0.731\n",
            "episode: 3650 | lever right:2997 | score: 0.734\n",
            "episode: 3700 | lever right:3045 | score: 0.737\n",
            "episode: 3750 | lever right:3095 | score: 0.741\n",
            "episode: 3800 | lever right:3143 | score: 0.743\n",
            "episode: 3850 | lever right:3190 | score: 0.746\n",
            "episode: 3900 | lever right:3238 | score: 0.748\n",
            "episode: 3950 | lever right:3287 | score: 0.750\n",
            "episode: 4000 | lever right:3337 | score: 0.754\n",
            "episode: 4050 | lever right:3387 | score: 0.757\n",
            "episode: 4100 | lever right:3436 | score: 0.759\n",
            "episode: 4150 | lever right:3485 | score: 0.762\n",
            "episode: 4200 | lever right:3534 | score: 0.764\n",
            "episode: 4250 | lever right:3583 | score: 0.766\n",
            "episode: 4300 | lever right:3632 | score: 0.769\n",
            "episode: 4350 | lever right:3681 | score: 0.771\n",
            "episode: 4400 | lever right:3731 | score: 0.774\n",
            "episode: 4450 | lever right:3781 | score: 0.776\n",
            "episode: 4500 | lever right:3831 | score: 0.779\n",
            "episode: 4550 | lever right:3880 | score: 0.781\n",
            "episode: 4600 | lever right:3930 | score: 0.783\n",
            "episode: 4650 | lever right:3980 | score: 0.785\n",
            "episode: 4700 | lever right:4029 | score: 0.787\n",
            "episode: 4750 | lever right:4078 | score: 0.789\n",
            "episode: 4800 | lever right:4128 | score: 0.792\n",
            "episode: 4850 | lever right:4178 | score: 0.794\n",
            "episode: 4900 | lever right:4228 | score: 0.796\n",
            "episode: 4950 | lever right:4277 | score: 0.797\n",
            "episode: 5000 | lever right:4327 | score: 0.799\n",
            "episode: 5050 | lever right:4377 | score: 0.801\n",
            "episode: 5100 | lever right:4427 | score: 0.803\n",
            "episode: 5150 | lever right:4477 | score: 0.805\n",
            "episode: 5200 | lever right:4527 | score: 0.807\n",
            "episode: 5250 | lever right:4576 | score: 0.809\n",
            "episode: 5300 | lever right:4626 | score: 0.810\n",
            "episode: 5350 | lever right:4675 | score: 0.812\n",
            "episode: 5400 | lever right:4724 | score: 0.813\n",
            "episode: 5450 | lever right:4773 | score: 0.815\n",
            "episode: 5500 | lever right:4823 | score: 0.816\n",
            "episode: 5550 | lever right:4872 | score: 0.818\n",
            "episode: 5600 | lever right:4922 | score: 0.819\n",
            "episode: 5650 | lever right:4972 | score: 0.821\n",
            "episode: 5700 | lever right:5022 | score: 0.823\n",
            "episode: 5750 | lever right:5072 | score: 0.824\n",
            "episode: 5800 | lever right:5122 | score: 0.826\n",
            "episode: 5850 | lever right:5171 | score: 0.827\n",
            "episode: 5900 | lever right:5220 | score: 0.828\n",
            "episode: 5950 | lever right:5270 | score: 0.829\n",
            "episode: 6000 | lever right:5320 | score: 0.831\n",
            "episode: 6050 | lever right:5370 | score: 0.832\n",
            "episode: 6100 | lever right:5420 | score: 0.834\n",
            "episode: 6150 | lever right:5469 | score: 0.835\n",
            "episode: 6200 | lever right:5519 | score: 0.836\n",
            "episode: 6250 | lever right:5569 | score: 0.837\n",
            "episode: 6300 | lever right:5619 | score: 0.839\n",
            "episode: 6350 | lever right:5669 | score: 0.840\n",
            "episode: 6400 | lever right:5719 | score: 0.841\n",
            "episode: 6450 | lever right:5767 | score: 0.842\n",
            "episode: 6500 | lever right:5816 | score: 0.843\n",
            "episode: 6550 | lever right:5866 | score: 0.844\n",
            "episode: 6600 | lever right:5916 | score: 0.845\n",
            "episode: 6650 | lever right:5965 | score: 0.846\n",
            "episode: 6700 | lever right:6015 | score: 0.847\n",
            "episode: 6750 | lever right:6065 | score: 0.849\n",
            "episode: 6800 | lever right:6115 | score: 0.850\n",
            "episode: 6850 | lever right:6165 | score: 0.851\n",
            "episode: 6900 | lever right:6215 | score: 0.852\n",
            "episode: 6950 | lever right:6265 | score: 0.853\n",
            "episode: 7000 | lever right:6315 | score: 0.854\n",
            "episode: 7050 | lever right:6365 | score: 0.855\n",
            "episode: 7100 | lever right:6415 | score: 0.856\n",
            "episode: 7150 | lever right:6465 | score: 0.857\n",
            "episode: 7200 | lever right:6513 | score: 0.858\n",
            "episode: 7250 | lever right:6563 | score: 0.859\n",
            "episode: 7300 | lever right:6613 | score: 0.859\n",
            "episode: 7350 | lever right:6663 | score: 0.860\n",
            "episode: 7400 | lever right:6713 | score: 0.861\n",
            "episode: 7450 | lever right:6763 | score: 0.862\n",
            "episode: 7500 | lever right:6812 | score: 0.863\n",
            "episode: 7550 | lever right:6862 | score: 0.864\n",
            "episode: 7600 | lever right:6912 | score: 0.865\n",
            "episode: 7650 | lever right:6962 | score: 0.866\n",
            "episode: 7700 | lever right:7012 | score: 0.867\n",
            "episode: 7750 | lever right:7061 | score: 0.867\n",
            "episode: 7800 | lever right:7111 | score: 0.868\n",
            "episode: 7850 | lever right:7160 | score: 0.869\n",
            "episode: 7900 | lever right:7209 | score: 0.870\n",
            "episode: 7950 | lever right:7259 | score: 0.870\n",
            "episode: 8000 | lever right:7308 | score: 0.871\n",
            "episode: 8050 | lever right:7357 | score: 0.872\n",
            "episode: 8100 | lever right:7406 | score: 0.872\n",
            "episode: 8150 | lever right:7456 | score: 0.873\n",
            "episode: 8200 | lever right:7505 | score: 0.873\n",
            "episode: 8250 | lever right:7554 | score: 0.874\n",
            "episode: 8300 | lever right:7603 | score: 0.875\n",
            "episode: 8350 | lever right:7652 | score: 0.875\n",
            "episode: 8400 | lever right:7702 | score: 0.876\n",
            "episode: 8450 | lever right:7752 | score: 0.877\n",
            "episode: 8500 | lever right:7802 | score: 0.877\n",
            "episode: 8550 | lever right:7852 | score: 0.878\n",
            "episode: 8600 | lever right:7902 | score: 0.879\n",
            "episode: 8650 | lever right:7952 | score: 0.879\n",
            "episode: 8700 | lever right:8000 | score: 0.880\n",
            "episode: 8750 | lever right:8050 | score: 0.880\n",
            "episode: 8800 | lever right:8100 | score: 0.881\n",
            "episode: 8850 | lever right:8150 | score: 0.882\n",
            "episode: 8900 | lever right:8200 | score: 0.882\n",
            "episode: 8950 | lever right:8250 | score: 0.883\n",
            "episode: 9000 | lever right:8299 | score: 0.884\n",
            "episode: 9050 | lever right:8349 | score: 0.884\n",
            "episode: 9100 | lever right:8399 | score: 0.885\n",
            "episode: 9150 | lever right:8449 | score: 0.885\n",
            "episode: 9200 | lever right:8499 | score: 0.886\n",
            "episode: 9250 | lever right:8549 | score: 0.887\n",
            "episode: 9300 | lever right:8599 | score: 0.887\n",
            "episode: 9350 | lever right:8649 | score: 0.888\n",
            "episode: 9400 | lever right:8699 | score: 0.889\n",
            "episode: 9450 | lever right:8749 | score: 0.889\n",
            "episode: 9500 | lever right:8799 | score: 0.890\n",
            "episode: 9550 | lever right:8849 | score: 0.890\n",
            "episode: 9600 | lever right:8899 | score: 0.891\n",
            "episode: 9650 | lever right:8949 | score: 0.891\n",
            "episode: 9700 | lever right:8999 | score: 0.892\n",
            "episode: 9750 | lever right:9049 | score: 0.893\n",
            "episode: 9800 | lever right:9098 | score: 0.893\n",
            "episode: 9850 | lever right:9148 | score: 0.894\n",
            "episode: 9900 | lever right:9198 | score: 0.894\n",
            "episode: 9950 | lever right:9248 | score: 0.895\n",
            "episode: 10000 | lever right:9297 | score: 0.895\n"
          ]
        }
      ]
    },
    {
      "cell_type": "code",
      "source": [
        "# 마지막 state만 render\n",
        "env.render(state)"
      ],
      "metadata": {
        "colab": {
          "base_uri": "https://localhost:8080/"
        },
        "id": "J_9PIZx3WWgU",
        "outputId": "bc8fdc41-4ae3-480b-ae94-cb9644ae68c9"
      },
      "execution_count": 41,
      "outputs": [
        {
          "output_type": "stream",
          "name": "stdout",
          "text": [
            "[0.0, 0.0, 1.0]\n"
          ]
        }
      ]
    },
    {
      "cell_type": "code",
      "source": [
        "plt.plot(episodes, scores_avg)"
      ],
      "metadata": {
        "colab": {
          "base_uri": "https://localhost:8080/",
          "height": 447
        },
        "id": "qOqoP8D3NH-N",
        "outputId": "23fb7dc8-8837-4700-e515-7676589cc582"
      },
      "execution_count": null,
      "outputs": [
        {
          "output_type": "execute_result",
          "data": {
            "text/plain": [
              "[<matplotlib.lines.Line2D at 0x78c7903b9b40>]"
            ]
          },
          "metadata": {},
          "execution_count": 38
        },
        {
          "output_type": "display_data",
          "data": {
            "text/plain": [
              "<Figure size 640x480 with 1 Axes>"
            ],
            "image/png": "[encoded data removed]"
          },
          "metadata": {}
        }
      ]
    }
  ]
}
