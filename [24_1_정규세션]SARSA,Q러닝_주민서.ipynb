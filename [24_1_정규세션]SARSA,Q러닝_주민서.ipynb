{
  "nbformat": 4,
  "nbformat_minor": 0,
  "metadata": {
    "colab": {
      "provenance": [],
      "authorship_tag": "ABX9TyNto7NQlnb3clnz2YAy0jgP",
      "include_colab_link": true
    },
    "kernelspec": {
      "name": "python3",
      "display_name": "Python 3"
    },
    "language_info": {
      "name": "python"
    }
  },
  "cells": [
    {
      "cell_type": "markdown",
      "metadata": {
        "id": "view-in-github",
        "colab_type": "text"
      },
      "source": [
        "<a href=\"https://colab.research.google.com/github/juminsuh/Reinforcement_Learning/blob/main/%5B24_1_%EC%A0%95%EA%B7%9C%EC%84%B8%EC%85%98%5DSARSA%2CQ%EB%9F%AC%EB%8B%9D_%EC%A3%BC%EB%AF%BC%EC%84%9C.ipynb\" target=\"_parent\"><img src=\"https://colab.research.google.com/assets/colab-badge.svg\" alt=\"Open In Colab\"/></a>"
      ]
    },
    {
      "cell_type": "markdown",
      "source": [
        "# Import"
      ],
      "metadata": {
        "id": "EfD5YG1DGbC-"
      }
    },
    {
      "cell_type": "code",
      "source": [
        "import os\n",
        "import time\n",
        "import numpy as np\n",
        "import pandas as pd\n",
        "from typing import Tuple\n",
        "import random\n",
        "from collections import defaultdict\n",
        "import matplotlib.pyplot as plt"
      ],
      "metadata": {
        "id": "VfKavrMtElQv"
      },
      "execution_count": null,
      "outputs": []
    },
    {
      "cell_type": "code",
      "execution_count": null,
      "metadata": {
        "colab": {
          "base_uri": "https://localhost:8080/"
        },
        "id": "YxU-l63YEGL6",
        "outputId": "c0a2e346-f765-4013-af51-201814e54c9b"
      },
      "outputs": [
        {
          "output_type": "stream",
          "name": "stdout",
          "text": [
            "Mounted at /content/drive\n"
          ]
        }
      ],
      "source": [
        "from google.colab import drive\n",
        "drive.mount('/content/drive')"
      ]
    },
    {
      "cell_type": "markdown",
      "source": [
        "# load env"
      ],
      "metadata": {
        "id": "GlLsaJ1nGap8"
      }
    },
    {
      "cell_type": "code",
      "source": [
        "import os\n",
        "os.chdir('/content/drive/MyDrive/24-1/강화학습세션/환경')"
      ],
      "metadata": {
        "id": "OIdD-5THGfnu"
      },
      "execution_count": null,
      "outputs": []
    },
    {
      "cell_type": "code",
      "source": [
        "!python GridWorldEnvironment2.py"
      ],
      "metadata": {
        "id": "7jBhcZckG1Fp"
      },
      "execution_count": null,
      "outputs": []
    },
    {
      "cell_type": "code",
      "source": [
        "from GridWorldEnvironment2 import GridWorldEnvironment"
      ],
      "metadata": {
        "id": "WRW2QFmzG6hz"
      },
      "execution_count": null,
      "outputs": []
    },
    {
      "cell_type": "markdown",
      "source": [
        "# SARSA"
      ],
      "metadata": {
        "id": "zObYxmnUHKIM"
      }
    },
    {
      "cell_type": "markdown",
      "source": [
        "# Agent_SA\n",
        "def argmax 부분에서 왜 [0]이 붙는지 잘 모르겠어..찾아봐도 이해가 잘 안됨.ㅜ"
      ],
      "metadata": {
        "id": "c6i43JD3HM5J"
      }
    },
    {
      "cell_type": "code",
      "source": [
        "class SARSAAgent:\n",
        "    def __init__(self, action_space):\n",
        "        #행동에 대한 파라미터\n",
        "        self.action_space=action_space #가능한 행동\n",
        "        self.num_actions=len(action_space) #4개\n",
        "\n",
        "        #학습에 관련된 파라미터\n",
        "        self.step_size=0.01 #\\alpha\n",
        "        self.discount_factor=0.9 #\\gamma\n",
        "        self.epsilon=1.0\n",
        "        self.epsilon_decay=0.999 #epsilon이 줄어듦\n",
        "        self.epsilon_min=0.01 #epsilon이 0.01이 될 때까지\n",
        "\n",
        "        #0을 초깃값으로 하는 큐함수 테이블 생성\n",
        "        '''\n",
        "        defaultdict는 self.q_table을 초기\n",
        "        lamda 함수는 모든 키에 대해 모두 0으로 채워져 있는\n",
        "        길이가 self.num_actions인 1차원 배열을 생성->이후 tolist()로 리스트로 변환\n",
        "        따라서 self.q_table은 상태-행동 쌍을 키로, 밸류로 각 행동에 대한 초기 큐함수를 가지는\n",
        "        딕셔너리가 생성\n",
        "        [[0,0,0,0]]으로 초기화됨\n",
        "        따라서 self.q_table[state][action]으로 밸류(큐함수)에 접근 가능\n",
        "        '''\n",
        "        self.q_table=defaultdict(lambda: np.zeros(self.num_actions).tolist())\n",
        "\n",
        "\n",
        "        #(S,A,R,S',A') 샘플을 입력으로 받아 q_table을 업데이트\n",
        "    def update_q_table(self, state, action_idx, reward, next_state, next_action_idx):\n",
        "        if self.epsilon>self.epsilon_min:\n",
        "            self.epsilon*=self.epsilon_decay\n",
        "\n",
        "        #idx로 사용하기 위해 (m,n) 좌표로 표현된 state를 문자열로 만듦\n",
        "        state, next_state=str(state), str(next_state)\n",
        "\n",
        "        #시간차 제어(SARSA)로 큐테이블을 업데이트한다\n",
        "        current_q=self.q_table[state][action_idx]#현재 상태-행동 쌍의 큐함수\n",
        "        next_q=self.q_table[next_state][next_action_idx]#다음 상태-행동 쌍의 큐함수\n",
        "        td=reward+self.discount_factor*next_q-current_q#time difference\n",
        "        new_q=current_q+self.step_size*td#큐함수 업데이트\n",
        "        self.q_table[state][action_idx]=new_q#현재 상태-행동에 갱신된 큐함수 저장\n",
        "\n",
        "        #입실론-탐욕 정책을 통해 행동을 반환\n",
        "    def get_action(self, state):\n",
        "\n",
        "        #0을 초깃값으로 하는 큐함수 테이블 생성\n",
        "        #np.random.rand()은 가우시안 정규분포를 따르는 랜덤값 출력(꼭 0~1 사이값이 출력되는 것은 x)\n",
        "        if np.random.rand()<self.epsilon:\n",
        "            #무작위 행동 수행\n",
        "            action_idx=np.random.choice(range(self.num_actions))\n",
        "\n",
        "        else:\n",
        "            #큐함수에 따른 행동\n",
        "            state=str(state)\n",
        "            q_list=self.q_table[state]#현재 state에 대한 네 개의 큐함수\n",
        "            action_idx=self.argmax(q_list)#큐함수를 최대로 하는 action 반환\n",
        "\n",
        "        return action_idx\n",
        "\n",
        "    def argmax(self, q_list):\n",
        "        max_value=np.amax(q_list)\n",
        "        max_indices=np.where(q_list==max_value)[0]#q_list에서 max_value와 같은 값을 가지는 행동의 인덱스를 반환\n",
        "        return np.random.choice(max_indices)\n",
        "        '''\n",
        "        np.argmax를 사용하지 않고 별도의 메소드를 정의하는 이유는\n",
        "        q_table에 큐함수 값이 같은 여러 개의 action이 있다면\n",
        "        그중에서 랜덤으로 선택해야 하기 때문\n",
        "        '''\n"
      ],
      "metadata": {
        "id": "-w1NOiOKHL6D"
      },
      "execution_count": null,
      "outputs": []
    },
    {
      "cell_type": "markdown",
      "source": [
        "# main_SA"
      ],
      "metadata": {
        "id": "MS5JIp2WKpgj"
      }
    },
    {
      "cell_type": "code",
      "source": [
        "#init value\n",
        "env=GridWorldEnvironment(start_point=(0,0),\n",
        "                         end_point=(4,4),\n",
        "                         gridworld_size=(5,5))\n",
        "\n",
        "agent=SARSAAgent(env.action_space)\n",
        "\n",
        "EPISODES=1000\n",
        "RENDER_PROCESS=False\n",
        "RENDER_END=False\n",
        "total_moves=[]"
      ],
      "metadata": {
        "id": "C7kqCUaiK899"
      },
      "execution_count": null,
      "outputs": []
    },
    {
      "cell_type": "code",
      "source": [
        "#train code\n",
        "\n",
        "for epi in range(EPISODES):\n",
        "    #게임 환경을 초기화\n",
        "    state=env.reset()\n",
        "    moves_cnt=0\n",
        "    #현재 상태에서 행동을 함. 입실론-탐욕 정책을 따름\n",
        "    action_idx=agent.get_action(state)\n",
        "\n",
        "    done=False #False 면 0, True면 1\n",
        "\n",
        "    while not done:#while True\n",
        "\n",
        "        if RENDER_PROCESS:\n",
        "            env.render()\n",
        "\n",
        "        next_state, reward, done=env.step(action_idx) #환경이 에이전트에게 제공하는 부분\n",
        "\n",
        "        #다음 상태에서 행동을 선택한다. 이때도 입실론-탐욕 정책을 따름\n",
        "        next_action_idx=agent.get_action(next_state)\n",
        "\n",
        "        #큐함수를 업데이트한다\n",
        "        agent.update_q_table(state, action_idx, reward, next_state, next_action_idx)\n",
        "\n",
        "        state=next_state\n",
        "        action_idx=next_action_idx\n",
        "        moves_cnt+=1\n",
        "\n",
        "    total_moves.append(moves_cnt)\n",
        "\n",
        "    if(epi+1)%100==0:\n",
        "        print(f\"[Episode]:{epi+1}/{EPISODES}__[Num of Moves Mean]:{np.mean(total_moves[epi-99:]):.1f}__[Epsilon]:{agent.epsilon:.3f}\")\n",
        "\n"
      ],
      "metadata": {
        "colab": {
          "base_uri": "https://localhost:8080/"
        },
        "id": "ZdUIwmScLNdo",
        "outputId": "bf334f2e-2bb8-4dda-d149-45f8a4b10491"
      },
      "execution_count": null,
      "outputs": [
        {
          "output_type": "stream",
          "name": "stdout",
          "text": [
            "[Episode]:100/1000__[Num of Moves Mean]:18.1__[Epsilon]:0.164\n",
            "[Episode]:200/1000__[Num of Moves Mean]:9.0__[Epsilon]:0.066\n",
            "[Episode]:300/1000__[Num of Moves Mean]:8.2__[Epsilon]:0.029\n",
            "[Episode]:400/1000__[Num of Moves Mean]:8.1__[Epsilon]:0.013\n",
            "[Episode]:500/1000__[Num of Moves Mean]:8.1__[Epsilon]:0.010\n",
            "[Episode]:600/1000__[Num of Moves Mean]:8.1__[Epsilon]:0.010\n",
            "[Episode]:700/1000__[Num of Moves Mean]:8.1__[Epsilon]:0.010\n",
            "[Episode]:800/1000__[Num of Moves Mean]:8.1__[Epsilon]:0.010\n",
            "[Episode]:900/1000__[Num of Moves Mean]:8.2__[Epsilon]:0.010\n",
            "[Episode]:1000/1000__[Num of Moves Mean]:8.1__[Epsilon]:0.010\n"
          ]
        }
      ]
    },
    {
      "cell_type": "code",
      "source": [
        "env.render()"
      ],
      "metadata": {
        "colab": {
          "base_uri": "https://localhost:8080/"
        },
        "id": "1Wk2NTczOYTB",
        "outputId": "a0fa34e8-56b3-40e9-cce5-313f6c508e19"
      },
      "execution_count": null,
      "outputs": [
        {
          "output_type": "stream",
          "name": "stdout",
          "text": [
            "S X . . . \n",
            ". X X . . \n",
            ". . X X X \n",
            ". . . . X \n",
            ". . . . A \n",
            "\n"
          ]
        }
      ]
    },
    {
      "cell_type": "code",
      "source": [
        "#1000개의 에피소드에서 에이전트의 이동 횟수를 시각화\n",
        "plt.plot(total_moves)\n",
        "plt.ylabel(\"cnt\")\n",
        "plt.xlabel(\"episodes\")\n",
        "plt.title(\"Num of Moves\")\n",
        "plt.show()"
      ],
      "metadata": {
        "colab": {
          "base_uri": "https://localhost:8080/",
          "height": 472
        },
        "id": "DwigTt2COa2V",
        "outputId": "f1725291-75b3-48b5-e5f4-63d35e3176ab"
      },
      "execution_count": null,
      "outputs": [
        {
          "output_type": "display_data",
          "data": {
            "text/plain": [
              "<Figure size 640x480 with 1 Axes>"
            ],
            "image/png": "[encoded data removed]"
          },
          "metadata": {}
        }
      ]
    },
    {
      "cell_type": "markdown",
      "source": [
        "# Q-Learning"
      ],
      "metadata": {
        "id": "jvbBU5F-Oop4"
      }
    },
    {
      "cell_type": "markdown",
      "source": [
        "# Agent_QL"
      ],
      "metadata": {
        "id": "2NQtTMPkOq7G"
      }
    },
    {
      "cell_type": "code",
      "source": [
        "class QlearningAgent:\n",
        "    def __init__(self, action_space):\n",
        "        #행동에 관한 파라미터\n",
        "        self.action_num=action_space\n",
        "        self.num_actions=len(action_space)\n",
        "\n",
        "        #학습에 관련된 파라미터\n",
        "        self.step_size=0.01\n",
        "        self.discount_factor=0.9\n",
        "        self.epsilon=1.0\n",
        "        self.epsilon_decay=0.999\n",
        "        self.epsilon_min=0.01\n",
        "\n",
        "        '''\n",
        "        0을 초깃값으로 하는 큐함수 테이블 생성.\n",
        "        상태-행동 쌍을 키로 하고 행동에 따른 큐함수를 밸류로 하는 딕셔너리 생성\n",
        "        '''\n",
        "        self.q_table=defaultdict(lambda: np.zeros(self.num_actions).tolist())\n",
        "\n",
        "        #next_action_idx가 필요 없음\n",
        "    def update_q_table(self, state, action_idx, reward, next_state):\n",
        "        if self.epsilon>self.epsilon_min:\n",
        "            self.epsilon*=self.epsilon_decay\n",
        "\n",
        "        state, next_state=str(state), str(next_state)\n",
        "\n",
        "        q_1=self.q_table[state][action_idx]#state의 action_idx에 해당하는 큐함수\n",
        "\n",
        "        #벨만 최적 방정식을 이용, next_action_idx는 알 필요 없음\n",
        "        q_2=reward+self.discount_factor*max(self.q_table[next_state])\n",
        "        self.q_table[state][action_idx]+=self.step_size*(q_2-q_1)\n",
        "\n",
        "    def get_action(self, state):\n",
        "        '''\n",
        "        입실론-탐욕 정책에 따라 행동 선택\n",
        "        '''\n",
        "        #0을 초깃값으로 하는 큐함수 테이블 생성\n",
        "        if np.random.rand()<self.epsilon:\n",
        "            #무작위 행동 수행\n",
        "            action_idx=np.random.choice(range(self.num_actions))\n",
        "        else:\n",
        "            #큐함수에 따른 행동\n",
        "            state=str(state)\n",
        "            q_list=self.q_table[state]\n",
        "            action_idx=self.argmax(q_list)\n",
        "\n",
        "        return action_idx\n",
        "\n",
        "    def argmax(self, q_list):\n",
        "        max_value=np.amax(q_list)\n",
        "        max_indices=np.where(q_list==max_value)[0]\n",
        "\n",
        "        return random.choice(max_indices)\n",
        "\n"
      ],
      "metadata": {
        "id": "NaawEXfFOqbt"
      },
      "execution_count": null,
      "outputs": []
    },
    {
      "cell_type": "markdown",
      "source": [
        "# main_QL"
      ],
      "metadata": {
        "id": "P7afmdinQi-s"
      }
    },
    {
      "cell_type": "code",
      "source": [
        "# init value\n",
        "env=GridWorldEnvironment(start_point=(0,0),\n",
        "                         end_point=(4,4),\n",
        "                         gridworld_size=(5,5))\n",
        "agent=QlearningAgent(env.action_space)\n",
        "\n",
        "EPISODES=1000\n",
        "RENDER_PROCESS=False\n",
        "RENDER_END=False\n",
        "total_moves=[]"
      ],
      "metadata": {
        "id": "hdyiM-jMQmwY"
      },
      "execution_count": null,
      "outputs": []
    },
    {
      "cell_type": "code",
      "source": [
        "#train code\n",
        "\n",
        "for epi in range(EPISODES):\n",
        "    #게임 환경을 초기화\n",
        "    state=env.reset()\n",
        "    moves_cnt=0\n",
        "\n",
        "    done=False\n",
        "\n",
        "    while not done:\n",
        "        if RENDER_PROCESS:\n",
        "            env.render()\n",
        "\n",
        "        #현재 상태에 대한 행동 선택\n",
        "        action_idx=agent.get_action(state)\n",
        "        #취한 행동에 대한 next_state, reward, done을 환경이 제공함\n",
        "        next_state, reward, done=env.step(action_idx)\n",
        "\n",
        "        #큐함수를 업데이트(S, A, R, S')\n",
        "        #현재 상태의 행동 action_idx는 입실론-탐욕 정책을 따른 것\n",
        "        agent.update_q_table(state, action_idx, reward, next_state)\n",
        "\n",
        "        state=next_state\n",
        "        moves_cnt+=1\n",
        "\n",
        "    total_moves.append(moves_cnt)\n",
        "\n",
        "    if (epi+1)%100==0:\n",
        "        print(f\"[Episode]:{epi+1}/{EPISODES}__[Num of Moves mean]:{np.mean(total_moves[epi-99:]):.1f}__[Epsilon]:{agent.epsilon:.03f}\")\n",
        "    if RENDER_END:\n",
        "        env.render()"
      ],
      "metadata": {
        "id": "b80WgEknQ4g2",
        "colab": {
          "base_uri": "https://localhost:8080/"
        },
        "outputId": "7f7cbb2f-5f14-4b48-95e3-84b128e332c5"
      },
      "execution_count": null,
      "outputs": [
        {
          "output_type": "stream",
          "name": "stdout",
          "text": [
            "[Episode]:100/1000__[Num of Moves mean]:17.2__[Epsilon]:0.178\n",
            "[Episode]:200/1000__[Num of Moves mean]:8.9__[Epsilon]:0.073\n",
            "[Episode]:300/1000__[Num of Moves mean]:8.5__[Epsilon]:0.031\n",
            "[Episode]:400/1000__[Num of Moves mean]:8.2__[Epsilon]:0.014\n",
            "[Episode]:500/1000__[Num of Moves mean]:8.0__[Epsilon]:0.010\n",
            "[Episode]:600/1000__[Num of Moves mean]:8.1__[Epsilon]:0.010\n",
            "[Episode]:700/1000__[Num of Moves mean]:8.1__[Epsilon]:0.010\n",
            "[Episode]:800/1000__[Num of Moves mean]:8.1__[Epsilon]:0.010\n",
            "[Episode]:900/1000__[Num of Moves mean]:8.1__[Epsilon]:0.010\n",
            "[Episode]:1000/1000__[Num of Moves mean]:8.1__[Epsilon]:0.010\n"
          ]
        }
      ]
    },
    {
      "cell_type": "code",
      "source": [
        "env.render()"
      ],
      "metadata": {
        "colab": {
          "base_uri": "https://localhost:8080/"
        },
        "id": "lHDK5fi-yJVo",
        "outputId": "142024eb-778c-4a6e-ad95-e02fbf63280c"
      },
      "execution_count": null,
      "outputs": [
        {
          "output_type": "stream",
          "name": "stdout",
          "text": [
            "S . . . . \n",
            "X . . . . \n",
            "X X X X . \n",
            ". . . X X \n",
            ". . . . A \n",
            "\n"
          ]
        }
      ]
    },
    {
      "cell_type": "code",
      "source": [
        "#1000개의 에피소드에서 에이전트의 이동 횟수를 시각화\n",
        "plt.plot(total_moves)\n",
        "plt.ylabel('cnt')\n",
        "plt.xlabel('episodes')\n",
        "plt.title('Num of Moves')\n",
        "plt.show()"
      ],
      "metadata": {
        "colab": {
          "base_uri": "https://localhost:8080/",
          "height": 472
        },
        "id": "EONkLqCmyc16",
        "outputId": "b3683238-f2c0-4acb-f9c1-003b690d442e"
      },
      "execution_count": null,
      "outputs": [
        {
          "output_type": "display_data",
          "data": {
            "text/plain": [
              "<Figure size 640x480 with 1 Axes>"
            ],
            "image/png": "[encoded data removed]"
          },
          "metadata": {}
        }
      ]
    }
  ]
}